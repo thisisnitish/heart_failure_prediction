{
  "nbformat": 4,
  "nbformat_minor": 0,
  "metadata": {
    "colab": {
      "name": "Machine Learning.ipynb",
      "provenance": [],
      "collapsed_sections": [],
      "authorship_tag": "ABX9TyOyJD2DjJQB7+veXmEdV+Bu",
      "include_colab_link": true
    },
    "kernelspec": {
      "name": "python3",
      "display_name": "Python 3"
    },
    "language_info": {
      "name": "python"
    }
  },
  "cells": [
    {
      "cell_type": "markdown",
      "metadata": {
        "id": "view-in-github",
        "colab_type": "text"
      },
      "source": [
        "<a href=\"https://colab.research.google.com/github/thisisnitish/heart_failure_prediction/blob/main/Machine_Learning.ipynb\" target=\"_parent\"><img src=\"https://colab.research.google.com/assets/colab-badge.svg\" alt=\"Open In Colab\"/></a>"
      ]
    },
    {
      "cell_type": "markdown",
      "metadata": {
        "id": "KRXeiBcDmnIG"
      },
      "source": [
        "#Heart Failure Prediction using KNN algorithm with hyperparametertuning."
      ]
    },
    {
      "cell_type": "code",
      "metadata": {
        "id": "ynBCHKPzl0de"
      },
      "source": [
        "import pandas as pd\n",
        "import numpy as np\n",
        "from warnings import filterwarnings"
      ],
      "execution_count": 1,
      "outputs": []
    },
    {
      "cell_type": "markdown",
      "metadata": {
        "id": "bwqe0lwEsUZZ"
      },
      "source": [
        "**Reading the datasets using**"
      ]
    },
    {
      "cell_type": "code",
      "metadata": {
        "id": "F7TrGZd4nPWn"
      },
      "source": [
        "df=pd.read_csv(\"./heart_failure_clinical_records_dataset.csv\")"
      ],
      "execution_count": 2,
      "outputs": []
    },
    {
      "cell_type": "markdown",
      "metadata": {
        "id": "Z8KLs6xxsigC"
      },
      "source": [
        "**Viewing the first 5 rows from the dataset to get the intuition**"
      ]
    },
    {
      "cell_type": "code",
      "metadata": {
        "colab": {
          "base_uri": "https://localhost:8080/",
          "height": 224
        },
        "id": "we1drRkCnhP7",
        "outputId": "182ae2a6-68af-49ef-beb7-5dccbc30e184"
      },
      "source": [
        "df.head()"
      ],
      "execution_count": 3,
      "outputs": [
        {
          "output_type": "execute_result",
          "data": {
            "text/html": [
              "<div>\n",
              "<style scoped>\n",
              "    .dataframe tbody tr th:only-of-type {\n",
              "        vertical-align: middle;\n",
              "    }\n",
              "\n",
              "    .dataframe tbody tr th {\n",
              "        vertical-align: top;\n",
              "    }\n",
              "\n",
              "    .dataframe thead th {\n",
              "        text-align: right;\n",
              "    }\n",
              "</style>\n",
              "<table border=\"1\" class=\"dataframe\">\n",
              "  <thead>\n",
              "    <tr style=\"text-align: right;\">\n",
              "      <th></th>\n",
              "      <th>age</th>\n",
              "      <th>anaemia</th>\n",
              "      <th>creatinine_phosphokinase</th>\n",
              "      <th>diabetes</th>\n",
              "      <th>ejection_fraction</th>\n",
              "      <th>high_blood_pressure</th>\n",
              "      <th>platelets</th>\n",
              "      <th>serum_creatinine</th>\n",
              "      <th>serum_sodium</th>\n",
              "      <th>sex</th>\n",
              "      <th>smoking</th>\n",
              "      <th>time</th>\n",
              "      <th>DEATH_EVENT</th>\n",
              "    </tr>\n",
              "  </thead>\n",
              "  <tbody>\n",
              "    <tr>\n",
              "      <th>0</th>\n",
              "      <td>75.0</td>\n",
              "      <td>0</td>\n",
              "      <td>582</td>\n",
              "      <td>0</td>\n",
              "      <td>20</td>\n",
              "      <td>1</td>\n",
              "      <td>265000.00</td>\n",
              "      <td>1.9</td>\n",
              "      <td>130</td>\n",
              "      <td>1</td>\n",
              "      <td>0</td>\n",
              "      <td>4</td>\n",
              "      <td>1</td>\n",
              "    </tr>\n",
              "    <tr>\n",
              "      <th>1</th>\n",
              "      <td>55.0</td>\n",
              "      <td>0</td>\n",
              "      <td>7861</td>\n",
              "      <td>0</td>\n",
              "      <td>38</td>\n",
              "      <td>0</td>\n",
              "      <td>263358.03</td>\n",
              "      <td>1.1</td>\n",
              "      <td>136</td>\n",
              "      <td>1</td>\n",
              "      <td>0</td>\n",
              "      <td>6</td>\n",
              "      <td>1</td>\n",
              "    </tr>\n",
              "    <tr>\n",
              "      <th>2</th>\n",
              "      <td>65.0</td>\n",
              "      <td>0</td>\n",
              "      <td>146</td>\n",
              "      <td>0</td>\n",
              "      <td>20</td>\n",
              "      <td>0</td>\n",
              "      <td>162000.00</td>\n",
              "      <td>1.3</td>\n",
              "      <td>129</td>\n",
              "      <td>1</td>\n",
              "      <td>1</td>\n",
              "      <td>7</td>\n",
              "      <td>1</td>\n",
              "    </tr>\n",
              "    <tr>\n",
              "      <th>3</th>\n",
              "      <td>50.0</td>\n",
              "      <td>1</td>\n",
              "      <td>111</td>\n",
              "      <td>0</td>\n",
              "      <td>20</td>\n",
              "      <td>0</td>\n",
              "      <td>210000.00</td>\n",
              "      <td>1.9</td>\n",
              "      <td>137</td>\n",
              "      <td>1</td>\n",
              "      <td>0</td>\n",
              "      <td>7</td>\n",
              "      <td>1</td>\n",
              "    </tr>\n",
              "    <tr>\n",
              "      <th>4</th>\n",
              "      <td>65.0</td>\n",
              "      <td>1</td>\n",
              "      <td>160</td>\n",
              "      <td>1</td>\n",
              "      <td>20</td>\n",
              "      <td>0</td>\n",
              "      <td>327000.00</td>\n",
              "      <td>2.7</td>\n",
              "      <td>116</td>\n",
              "      <td>0</td>\n",
              "      <td>0</td>\n",
              "      <td>8</td>\n",
              "      <td>1</td>\n",
              "    </tr>\n",
              "  </tbody>\n",
              "</table>\n",
              "</div>"
            ],
            "text/plain": [
              "    age  anaemia  creatinine_phosphokinase  ...  smoking  time  DEATH_EVENT\n",
              "0  75.0        0                       582  ...        0     4            1\n",
              "1  55.0        0                      7861  ...        0     6            1\n",
              "2  65.0        0                       146  ...        1     7            1\n",
              "3  50.0        1                       111  ...        0     7            1\n",
              "4  65.0        1                       160  ...        0     8            1\n",
              "\n",
              "[5 rows x 13 columns]"
            ]
          },
          "metadata": {},
          "execution_count": 3
        }
      ]
    },
    {
      "cell_type": "markdown",
      "metadata": {
        "id": "VuAWad0evYQA"
      },
      "source": [
        "**Checking whether there is missing data or not, if not then it can proceed to the Exploratory Data Analysis (EDA) stage.**"
      ]
    },
    {
      "cell_type": "code",
      "metadata": {
        "colab": {
          "base_uri": "https://localhost:8080/"
        },
        "id": "lA3Z6xREoLUL",
        "outputId": "520da216-a732-44ae-c0a8-b4421fb14f9f"
      },
      "source": [
        "df.isnull().sum()"
      ],
      "execution_count": 4,
      "outputs": [
        {
          "output_type": "execute_result",
          "data": {
            "text/plain": [
              "age                         0\n",
              "anaemia                     0\n",
              "creatinine_phosphokinase    0\n",
              "diabetes                    0\n",
              "ejection_fraction           0\n",
              "high_blood_pressure         0\n",
              "platelets                   0\n",
              "serum_creatinine            0\n",
              "serum_sodium                0\n",
              "sex                         0\n",
              "smoking                     0\n",
              "time                        0\n",
              "DEATH_EVENT                 0\n",
              "dtype: int64"
            ]
          },
          "metadata": {},
          "execution_count": 4
        }
      ]
    },
    {
      "cell_type": "code",
      "metadata": {
        "id": "w352oF1toTnV"
      },
      "source": [
        "y=df[\"DEATH_EVENT\"]"
      ],
      "execution_count": 5,
      "outputs": []
    },
    {
      "cell_type": "code",
      "metadata": {
        "id": "_XAo649nodvI"
      },
      "source": [
        "x=df.drop(\"DEATH_EVENT\",axis=1)"
      ],
      "execution_count": 6,
      "outputs": []
    },
    {
      "cell_type": "code",
      "metadata": {
        "id": "hQUtb5NJorkP"
      },
      "source": [
        "x.drop(\"time\",axis=1,inplace=True)"
      ],
      "execution_count": 7,
      "outputs": []
    },
    {
      "cell_type": "markdown",
      "metadata": {
        "id": "QRCrXdqutp7X"
      },
      "source": [
        "**After dropping the column we are again checking the value.**"
      ]
    },
    {
      "cell_type": "code",
      "metadata": {
        "colab": {
          "base_uri": "https://localhost:8080/",
          "height": 204
        },
        "id": "8OEw1RRBpCKk",
        "outputId": "21273369-1db5-456c-bae5-808a3057f018"
      },
      "source": [
        "x.head()"
      ],
      "execution_count": 8,
      "outputs": [
        {
          "output_type": "execute_result",
          "data": {
            "text/html": [
              "<div>\n",
              "<style scoped>\n",
              "    .dataframe tbody tr th:only-of-type {\n",
              "        vertical-align: middle;\n",
              "    }\n",
              "\n",
              "    .dataframe tbody tr th {\n",
              "        vertical-align: top;\n",
              "    }\n",
              "\n",
              "    .dataframe thead th {\n",
              "        text-align: right;\n",
              "    }\n",
              "</style>\n",
              "<table border=\"1\" class=\"dataframe\">\n",
              "  <thead>\n",
              "    <tr style=\"text-align: right;\">\n",
              "      <th></th>\n",
              "      <th>age</th>\n",
              "      <th>anaemia</th>\n",
              "      <th>creatinine_phosphokinase</th>\n",
              "      <th>diabetes</th>\n",
              "      <th>ejection_fraction</th>\n",
              "      <th>high_blood_pressure</th>\n",
              "      <th>platelets</th>\n",
              "      <th>serum_creatinine</th>\n",
              "      <th>serum_sodium</th>\n",
              "      <th>sex</th>\n",
              "      <th>smoking</th>\n",
              "    </tr>\n",
              "  </thead>\n",
              "  <tbody>\n",
              "    <tr>\n",
              "      <th>0</th>\n",
              "      <td>75.0</td>\n",
              "      <td>0</td>\n",
              "      <td>582</td>\n",
              "      <td>0</td>\n",
              "      <td>20</td>\n",
              "      <td>1</td>\n",
              "      <td>265000.00</td>\n",
              "      <td>1.9</td>\n",
              "      <td>130</td>\n",
              "      <td>1</td>\n",
              "      <td>0</td>\n",
              "    </tr>\n",
              "    <tr>\n",
              "      <th>1</th>\n",
              "      <td>55.0</td>\n",
              "      <td>0</td>\n",
              "      <td>7861</td>\n",
              "      <td>0</td>\n",
              "      <td>38</td>\n",
              "      <td>0</td>\n",
              "      <td>263358.03</td>\n",
              "      <td>1.1</td>\n",
              "      <td>136</td>\n",
              "      <td>1</td>\n",
              "      <td>0</td>\n",
              "    </tr>\n",
              "    <tr>\n",
              "      <th>2</th>\n",
              "      <td>65.0</td>\n",
              "      <td>0</td>\n",
              "      <td>146</td>\n",
              "      <td>0</td>\n",
              "      <td>20</td>\n",
              "      <td>0</td>\n",
              "      <td>162000.00</td>\n",
              "      <td>1.3</td>\n",
              "      <td>129</td>\n",
              "      <td>1</td>\n",
              "      <td>1</td>\n",
              "    </tr>\n",
              "    <tr>\n",
              "      <th>3</th>\n",
              "      <td>50.0</td>\n",
              "      <td>1</td>\n",
              "      <td>111</td>\n",
              "      <td>0</td>\n",
              "      <td>20</td>\n",
              "      <td>0</td>\n",
              "      <td>210000.00</td>\n",
              "      <td>1.9</td>\n",
              "      <td>137</td>\n",
              "      <td>1</td>\n",
              "      <td>0</td>\n",
              "    </tr>\n",
              "    <tr>\n",
              "      <th>4</th>\n",
              "      <td>65.0</td>\n",
              "      <td>1</td>\n",
              "      <td>160</td>\n",
              "      <td>1</td>\n",
              "      <td>20</td>\n",
              "      <td>0</td>\n",
              "      <td>327000.00</td>\n",
              "      <td>2.7</td>\n",
              "      <td>116</td>\n",
              "      <td>0</td>\n",
              "      <td>0</td>\n",
              "    </tr>\n",
              "  </tbody>\n",
              "</table>\n",
              "</div>"
            ],
            "text/plain": [
              "    age  anaemia  creatinine_phosphokinase  ...  serum_sodium  sex  smoking\n",
              "0  75.0        0                       582  ...           130    1        0\n",
              "1  55.0        0                      7861  ...           136    1        0\n",
              "2  65.0        0                       146  ...           129    1        1\n",
              "3  50.0        1                       111  ...           137    1        0\n",
              "4  65.0        1                       160  ...           116    0        0\n",
              "\n",
              "[5 rows x 11 columns]"
            ]
          },
          "metadata": {},
          "execution_count": 8
        }
      ]
    },
    {
      "cell_type": "code",
      "metadata": {
        "id": "-3NI7xNapKD9"
      },
      "source": [
        "from sklearn.model_selection import train_test_split"
      ],
      "execution_count": 9,
      "outputs": []
    },
    {
      "cell_type": "markdown",
      "metadata": {
        "id": "QGVpbvPCt6Bs"
      },
      "source": [
        "Now we are splitting the dataset in to training dataset and test dataset. And after that we will perform data fitting, some transformation and then using the model KNeighborsClassifier inorder to tune the hyperparameter."
      ]
    },
    {
      "cell_type": "code",
      "metadata": {
        "id": "5gW6nBeFpOGA"
      },
      "source": [
        "x_train,x_test,y_train,y_test=train_test_split(x,y,test_size=0.2,random_state=1)"
      ],
      "execution_count": 10,
      "outputs": []
    },
    {
      "cell_type": "code",
      "metadata": {
        "id": "6NUYA2G9pRQi"
      },
      "source": [
        "from sklearn.preprocessing import MinMaxScaler"
      ],
      "execution_count": 11,
      "outputs": []
    },
    {
      "cell_type": "code",
      "metadata": {
        "id": "Gg86bfEbpXhY"
      },
      "source": [
        "scaler=MinMaxScaler()"
      ],
      "execution_count": 12,
      "outputs": []
    },
    {
      "cell_type": "code",
      "metadata": {
        "id": "6l18ROTGpZ0I"
      },
      "source": [
        "x_train=scaler.fit_transform(x_train)"
      ],
      "execution_count": 13,
      "outputs": []
    },
    {
      "cell_type": "code",
      "metadata": {
        "id": "IYNtXQuRpcW0"
      },
      "source": [
        "x_test=scaler.transform(x_test)"
      ],
      "execution_count": 14,
      "outputs": []
    },
    {
      "cell_type": "code",
      "metadata": {
        "id": "p6t0MUrUpfJY"
      },
      "source": [
        "from sklearn.neighbors import KNeighborsClassifier\n",
        "from sklearn.model_selection import GridSearchCV"
      ],
      "execution_count": 15,
      "outputs": []
    },
    {
      "cell_type": "code",
      "metadata": {
        "id": "ffk7tH8LphSo"
      },
      "source": [
        "model=KNeighborsClassifier()"
      ],
      "execution_count": 16,
      "outputs": []
    },
    {
      "cell_type": "code",
      "metadata": {
        "id": "IG7rS_PzptgD"
      },
      "source": [
        "k_range=list(range(1,150))\n",
        "param_grid=dict(n_neighbors=k_range)"
      ],
      "execution_count": 17,
      "outputs": []
    },
    {
      "cell_type": "code",
      "metadata": {
        "id": "VRhlep2TpyvG"
      },
      "source": [
        "#using the GridSearch\n",
        "hyperpara=GridSearchCV(model,param_grid,cv=5,return_train_score=True)"
      ],
      "execution_count": 18,
      "outputs": []
    },
    {
      "cell_type": "code",
      "metadata": {
        "colab": {
          "base_uri": "https://localhost:8080/"
        },
        "id": "jAv2bXRGp1hn",
        "outputId": "0ac84587-4285-47e5-e792-ebee514e8dc1"
      },
      "source": [
        "# fit the model\n",
        "hyperpara.fit(x_train,y_train)"
      ],
      "execution_count": 19,
      "outputs": [
        {
          "output_type": "execute_result",
          "data": {
            "text/plain": [
              "GridSearchCV(cv=5, error_score=nan,\n",
              "             estimator=KNeighborsClassifier(algorithm='auto', leaf_size=30,\n",
              "                                            metric='minkowski',\n",
              "                                            metric_params=None, n_jobs=None,\n",
              "                                            n_neighbors=5, p=2,\n",
              "                                            weights='uniform'),\n",
              "             iid='deprecated', n_jobs=None,\n",
              "             param_grid={'n_neighbors': [1, 2, 3, 4, 5, 6, 7, 8, 9, 10, 11, 12,\n",
              "                                         13, 14, 15, 16, 17, 18, 19, 20, 21, 22,\n",
              "                                         23, 24, 25, 26, 27, 28, 29, 30, ...]},\n",
              "             pre_dispatch='2*n_jobs', refit=True, return_train_score=True,\n",
              "             scoring=None, verbose=0)"
            ]
          },
          "metadata": {},
          "execution_count": 19
        }
      ]
    },
    {
      "cell_type": "code",
      "metadata": {
        "colab": {
          "base_uri": "https://localhost:8080/",
          "height": 609
        },
        "id": "xVjNUz3Ap3n7",
        "outputId": "998fb7c8-3f50-4d50-84e0-3b64e991cae4"
      },
      "source": [
        "pd.DataFrame(hyperpara.cv_results_).sort_values(\"mean_test_score\",ascending=False)"
      ],
      "execution_count": 20,
      "outputs": [
        {
          "output_type": "execute_result",
          "data": {
            "text/html": [
              "<div>\n",
              "<style scoped>\n",
              "    .dataframe tbody tr th:only-of-type {\n",
              "        vertical-align: middle;\n",
              "    }\n",
              "\n",
              "    .dataframe tbody tr th {\n",
              "        vertical-align: top;\n",
              "    }\n",
              "\n",
              "    .dataframe thead th {\n",
              "        text-align: right;\n",
              "    }\n",
              "</style>\n",
              "<table border=\"1\" class=\"dataframe\">\n",
              "  <thead>\n",
              "    <tr style=\"text-align: right;\">\n",
              "      <th></th>\n",
              "      <th>mean_fit_time</th>\n",
              "      <th>std_fit_time</th>\n",
              "      <th>mean_score_time</th>\n",
              "      <th>std_score_time</th>\n",
              "      <th>param_n_neighbors</th>\n",
              "      <th>params</th>\n",
              "      <th>split0_test_score</th>\n",
              "      <th>split1_test_score</th>\n",
              "      <th>split2_test_score</th>\n",
              "      <th>split3_test_score</th>\n",
              "      <th>split4_test_score</th>\n",
              "      <th>mean_test_score</th>\n",
              "      <th>std_test_score</th>\n",
              "      <th>rank_test_score</th>\n",
              "      <th>split0_train_score</th>\n",
              "      <th>split1_train_score</th>\n",
              "      <th>split2_train_score</th>\n",
              "      <th>split3_train_score</th>\n",
              "      <th>split4_train_score</th>\n",
              "      <th>mean_train_score</th>\n",
              "      <th>std_train_score</th>\n",
              "    </tr>\n",
              "  </thead>\n",
              "  <tbody>\n",
              "    <tr>\n",
              "      <th>14</th>\n",
              "      <td>0.001027</td>\n",
              "      <td>0.000053</td>\n",
              "      <td>0.003166</td>\n",
              "      <td>0.000578</td>\n",
              "      <td>15</td>\n",
              "      <td>{'n_neighbors': 15}</td>\n",
              "      <td>0.666667</td>\n",
              "      <td>0.708333</td>\n",
              "      <td>0.666667</td>\n",
              "      <td>0.666667</td>\n",
              "      <td>0.638298</td>\n",
              "      <td>0.669326</td>\n",
              "      <td>0.022385</td>\n",
              "      <td>1</td>\n",
              "      <td>0.691099</td>\n",
              "      <td>0.706806</td>\n",
              "      <td>0.696335</td>\n",
              "      <td>0.696335</td>\n",
              "      <td>0.697917</td>\n",
              "      <td>0.697699</td>\n",
              "      <td>0.005104</td>\n",
              "    </tr>\n",
              "    <tr>\n",
              "      <th>24</th>\n",
              "      <td>0.001096</td>\n",
              "      <td>0.000169</td>\n",
              "      <td>0.003680</td>\n",
              "      <td>0.000581</td>\n",
              "      <td>25</td>\n",
              "      <td>{'n_neighbors': 25}</td>\n",
              "      <td>0.687500</td>\n",
              "      <td>0.687500</td>\n",
              "      <td>0.645833</td>\n",
              "      <td>0.645833</td>\n",
              "      <td>0.659574</td>\n",
              "      <td>0.665248</td>\n",
              "      <td>0.018849</td>\n",
              "      <td>2</td>\n",
              "      <td>0.659686</td>\n",
              "      <td>0.654450</td>\n",
              "      <td>0.670157</td>\n",
              "      <td>0.664921</td>\n",
              "      <td>0.666667</td>\n",
              "      <td>0.663176</td>\n",
              "      <td>0.005519</td>\n",
              "    </tr>\n",
              "    <tr>\n",
              "      <th>21</th>\n",
              "      <td>0.001047</td>\n",
              "      <td>0.000111</td>\n",
              "      <td>0.003243</td>\n",
              "      <td>0.000258</td>\n",
              "      <td>22</td>\n",
              "      <td>{'n_neighbors': 22}</td>\n",
              "      <td>0.708333</td>\n",
              "      <td>0.666667</td>\n",
              "      <td>0.645833</td>\n",
              "      <td>0.645833</td>\n",
              "      <td>0.659574</td>\n",
              "      <td>0.665248</td>\n",
              "      <td>0.022997</td>\n",
              "      <td>2</td>\n",
              "      <td>0.659686</td>\n",
              "      <td>0.664921</td>\n",
              "      <td>0.659686</td>\n",
              "      <td>0.659686</td>\n",
              "      <td>0.661458</td>\n",
              "      <td>0.661087</td>\n",
              "      <td>0.002036</td>\n",
              "    </tr>\n",
              "    <tr>\n",
              "      <th>20</th>\n",
              "      <td>0.001073</td>\n",
              "      <td>0.000118</td>\n",
              "      <td>0.003207</td>\n",
              "      <td>0.000427</td>\n",
              "      <td>21</td>\n",
              "      <td>{'n_neighbors': 21}</td>\n",
              "      <td>0.687500</td>\n",
              "      <td>0.666667</td>\n",
              "      <td>0.666667</td>\n",
              "      <td>0.645833</td>\n",
              "      <td>0.659574</td>\n",
              "      <td>0.665248</td>\n",
              "      <td>0.013478</td>\n",
              "      <td>4</td>\n",
              "      <td>0.675393</td>\n",
              "      <td>0.675393</td>\n",
              "      <td>0.670157</td>\n",
              "      <td>0.675393</td>\n",
              "      <td>0.671875</td>\n",
              "      <td>0.673642</td>\n",
              "      <td>0.002212</td>\n",
              "    </tr>\n",
              "    <tr>\n",
              "      <th>16</th>\n",
              "      <td>0.001097</td>\n",
              "      <td>0.000159</td>\n",
              "      <td>0.002985</td>\n",
              "      <td>0.000223</td>\n",
              "      <td>17</td>\n",
              "      <td>{'n_neighbors': 17}</td>\n",
              "      <td>0.666667</td>\n",
              "      <td>0.708333</td>\n",
              "      <td>0.666667</td>\n",
              "      <td>0.645833</td>\n",
              "      <td>0.638298</td>\n",
              "      <td>0.665160</td>\n",
              "      <td>0.024346</td>\n",
              "      <td>5</td>\n",
              "      <td>0.691099</td>\n",
              "      <td>0.685864</td>\n",
              "      <td>0.675393</td>\n",
              "      <td>0.680628</td>\n",
              "      <td>0.677083</td>\n",
              "      <td>0.682014</td>\n",
              "      <td>0.005787</td>\n",
              "    </tr>\n",
              "    <tr>\n",
              "      <th>...</th>\n",
              "      <td>...</td>\n",
              "      <td>...</td>\n",
              "      <td>...</td>\n",
              "      <td>...</td>\n",
              "      <td>...</td>\n",
              "      <td>...</td>\n",
              "      <td>...</td>\n",
              "      <td>...</td>\n",
              "      <td>...</td>\n",
              "      <td>...</td>\n",
              "      <td>...</td>\n",
              "      <td>...</td>\n",
              "      <td>...</td>\n",
              "      <td>...</td>\n",
              "      <td>...</td>\n",
              "      <td>...</td>\n",
              "      <td>...</td>\n",
              "      <td>...</td>\n",
              "      <td>...</td>\n",
              "      <td>...</td>\n",
              "      <td>...</td>\n",
              "    </tr>\n",
              "    <tr>\n",
              "      <th>12</th>\n",
              "      <td>0.001053</td>\n",
              "      <td>0.000140</td>\n",
              "      <td>0.002846</td>\n",
              "      <td>0.000060</td>\n",
              "      <td>13</td>\n",
              "      <td>{'n_neighbors': 13}</td>\n",
              "      <td>0.666667</td>\n",
              "      <td>0.562500</td>\n",
              "      <td>0.625000</td>\n",
              "      <td>0.666667</td>\n",
              "      <td>0.638298</td>\n",
              "      <td>0.631826</td>\n",
              "      <td>0.038268</td>\n",
              "      <td>145</td>\n",
              "      <td>0.680628</td>\n",
              "      <td>0.696335</td>\n",
              "      <td>0.717277</td>\n",
              "      <td>0.696335</td>\n",
              "      <td>0.692708</td>\n",
              "      <td>0.696657</td>\n",
              "      <td>0.011815</td>\n",
              "    </tr>\n",
              "    <tr>\n",
              "      <th>6</th>\n",
              "      <td>0.000897</td>\n",
              "      <td>0.000030</td>\n",
              "      <td>0.002936</td>\n",
              "      <td>0.000270</td>\n",
              "      <td>7</td>\n",
              "      <td>{'n_neighbors': 7}</td>\n",
              "      <td>0.687500</td>\n",
              "      <td>0.625000</td>\n",
              "      <td>0.583333</td>\n",
              "      <td>0.604167</td>\n",
              "      <td>0.638298</td>\n",
              "      <td>0.627660</td>\n",
              "      <td>0.035264</td>\n",
              "      <td>146</td>\n",
              "      <td>0.727749</td>\n",
              "      <td>0.727749</td>\n",
              "      <td>0.722513</td>\n",
              "      <td>0.706806</td>\n",
              "      <td>0.703125</td>\n",
              "      <td>0.717588</td>\n",
              "      <td>0.010547</td>\n",
              "    </tr>\n",
              "    <tr>\n",
              "      <th>4</th>\n",
              "      <td>0.000908</td>\n",
              "      <td>0.000037</td>\n",
              "      <td>0.002748</td>\n",
              "      <td>0.000218</td>\n",
              "      <td>5</td>\n",
              "      <td>{'n_neighbors': 5}</td>\n",
              "      <td>0.625000</td>\n",
              "      <td>0.604167</td>\n",
              "      <td>0.583333</td>\n",
              "      <td>0.625000</td>\n",
              "      <td>0.638298</td>\n",
              "      <td>0.615160</td>\n",
              "      <td>0.019302</td>\n",
              "      <td>147</td>\n",
              "      <td>0.722513</td>\n",
              "      <td>0.738220</td>\n",
              "      <td>0.732984</td>\n",
              "      <td>0.743455</td>\n",
              "      <td>0.750000</td>\n",
              "      <td>0.737435</td>\n",
              "      <td>0.009351</td>\n",
              "    </tr>\n",
              "    <tr>\n",
              "      <th>0</th>\n",
              "      <td>0.001386</td>\n",
              "      <td>0.000922</td>\n",
              "      <td>0.003473</td>\n",
              "      <td>0.001777</td>\n",
              "      <td>1</td>\n",
              "      <td>{'n_neighbors': 1}</td>\n",
              "      <td>0.562500</td>\n",
              "      <td>0.562500</td>\n",
              "      <td>0.562500</td>\n",
              "      <td>0.687500</td>\n",
              "      <td>0.595745</td>\n",
              "      <td>0.594149</td>\n",
              "      <td>0.048419</td>\n",
              "      <td>148</td>\n",
              "      <td>1.000000</td>\n",
              "      <td>1.000000</td>\n",
              "      <td>1.000000</td>\n",
              "      <td>1.000000</td>\n",
              "      <td>1.000000</td>\n",
              "      <td>1.000000</td>\n",
              "      <td>0.000000</td>\n",
              "    </tr>\n",
              "    <tr>\n",
              "      <th>2</th>\n",
              "      <td>0.000870</td>\n",
              "      <td>0.000035</td>\n",
              "      <td>0.002567</td>\n",
              "      <td>0.000055</td>\n",
              "      <td>3</td>\n",
              "      <td>{'n_neighbors': 3}</td>\n",
              "      <td>0.604167</td>\n",
              "      <td>0.604167</td>\n",
              "      <td>0.541667</td>\n",
              "      <td>0.625000</td>\n",
              "      <td>0.510638</td>\n",
              "      <td>0.577128</td>\n",
              "      <td>0.043433</td>\n",
              "      <td>149</td>\n",
              "      <td>0.795812</td>\n",
              "      <td>0.806283</td>\n",
              "      <td>0.811518</td>\n",
              "      <td>0.790576</td>\n",
              "      <td>0.802083</td>\n",
              "      <td>0.801254</td>\n",
              "      <td>0.007416</td>\n",
              "    </tr>\n",
              "  </tbody>\n",
              "</table>\n",
              "<p>149 rows × 21 columns</p>\n",
              "</div>"
            ],
            "text/plain": [
              "    mean_fit_time  std_fit_time  ...  mean_train_score  std_train_score\n",
              "14       0.001027      0.000053  ...          0.697699         0.005104\n",
              "24       0.001096      0.000169  ...          0.663176         0.005519\n",
              "21       0.001047      0.000111  ...          0.661087         0.002036\n",
              "20       0.001073      0.000118  ...          0.673642         0.002212\n",
              "16       0.001097      0.000159  ...          0.682014         0.005787\n",
              "..            ...           ...  ...               ...              ...\n",
              "12       0.001053      0.000140  ...          0.696657         0.011815\n",
              "6        0.000897      0.000030  ...          0.717588         0.010547\n",
              "4        0.000908      0.000037  ...          0.737435         0.009351\n",
              "0        0.001386      0.000922  ...          1.000000         0.000000\n",
              "2        0.000870      0.000035  ...          0.801254         0.007416\n",
              "\n",
              "[149 rows x 21 columns]"
            ]
          },
          "metadata": {},
          "execution_count": 20
        }
      ]
    },
    {
      "cell_type": "markdown",
      "metadata": {
        "id": "L5VnqMX0rNej"
      },
      "source": [
        "**Fitting KNN classifier to the training data and finding the accuracy**\n",
        "\n"
      ]
    },
    {
      "cell_type": "code",
      "metadata": {
        "id": "Hnd8hGEBp-wS"
      },
      "source": [
        "'''\n",
        "Now we will fit the K-NN classifier to the training data. we have already \n",
        "imported the KNeighborsClassifier class of Sklearn Neighbors library.\n",
        "'''\n",
        "model=KNeighborsClassifier(n_neighbors=15,metric='euclidean')"
      ],
      "execution_count": 21,
      "outputs": []
    },
    {
      "cell_type": "code",
      "metadata": {
        "colab": {
          "base_uri": "https://localhost:8080/"
        },
        "id": "Nc0HCDpzqCOG",
        "outputId": "cee3fb0a-ff92-4bba-8980-18c19ae9ff87"
      },
      "source": [
        "#Training the model\n",
        "model.fit(x_train,y_train)"
      ],
      "execution_count": 22,
      "outputs": [
        {
          "output_type": "execute_result",
          "data": {
            "text/plain": [
              "KNeighborsClassifier(algorithm='auto', leaf_size=30, metric='euclidean',\n",
              "                     metric_params=None, n_jobs=None, n_neighbors=15, p=2,\n",
              "                     weights='uniform')"
            ]
          },
          "metadata": {},
          "execution_count": 22
        }
      ]
    },
    {
      "cell_type": "code",
      "metadata": {
        "colab": {
          "base_uri": "https://localhost:8080/"
        },
        "id": "Rx8k0BbeqESg",
        "outputId": "9570691e-bbd7-4826-99ad-9794f87b2a65"
      },
      "source": [
        "#Finding the accuracy for training dataset\n",
        "model.score(x_train,y_train)"
      ],
      "execution_count": 23,
      "outputs": [
        {
          "output_type": "execute_result",
          "data": {
            "text/plain": [
              "0.694560669456067"
            ]
          },
          "metadata": {},
          "execution_count": 23
        }
      ]
    },
    {
      "cell_type": "code",
      "metadata": {
        "colab": {
          "base_uri": "https://localhost:8080/"
        },
        "id": "TOgfQJaSqHOw",
        "outputId": "f8fcb4a6-54fc-45a4-871d-49cd578fb53a"
      },
      "source": [
        "#Finding the accuracy for the test dataset\n",
        "'''Here we can see that the hear failure prediction failure is increases by\n",
        "approx 78%, and there are could be many reasons such as high blood pressure,\n",
        "smoking, diabetes etc.'''\n",
        "model.score(x_test,y_test)"
      ],
      "execution_count": 24,
      "outputs": [
        {
          "output_type": "execute_result",
          "data": {
            "text/plain": [
              "0.7833333333333333"
            ]
          },
          "metadata": {},
          "execution_count": 24
        }
      ]
    },
    {
      "cell_type": "code",
      "metadata": {
        "id": "JJMOO-LSqJaI"
      },
      "source": [
        ""
      ],
      "execution_count": 24,
      "outputs": []
    }
  ]
}